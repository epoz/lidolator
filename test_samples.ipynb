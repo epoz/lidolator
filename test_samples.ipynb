{
 "cells": [
  {
   "cell_type": "code",
   "execution_count": 7,
   "metadata": {},
   "outputs": [
    {
     "name": "stdout",
     "output_type": "stream",
     "text": [
      "Requirement already satisfied: lidolator in /Users/etienne/Dropbox/Posthumanities/FIZ/lidolator (0.1)\n"
     ]
    }
   ],
   "source": [
    "# In case you do not have the library installed yet\n",
    "!pip install lidolator"
   ]
  },
  {
   "cell_type": "code",
   "execution_count": 3,
   "metadata": {},
   "outputs": [],
   "source": [
    "import lidolator\n",
    "from urllib.request import urlopen\n",
    "from rich import print\n",
    "\n",
    "SAMPLES = {\"bildindex1\":\"https://api.deutsche-digitale-bibliothek.de/items/6XQTVG2QRXHITR3ASBMMEU7RJEM6535W/source/record\",\n",
    "           \"fotothek1\" : \" https://api.deutsche-digitale-bibliothek.de/items/TSRFYVODDOUI4KVEAY3YJVAE2V4NWLBA/source/record \"}"
   ]
  },
  {
   "cell_type": "code",
   "execution_count": 2,
   "metadata": {},
   "outputs": [
    {
     "data": {
      "text/html": [
       "<pre style=\"white-space:pre;overflow-x:auto;line-height:normal;font-family:Menlo,'DejaVu Sans Mono',consolas,'Courier New',monospace\"><span style=\"color: #800000; text-decoration-color: #800000\">recordInfoLink</span> <span style=\"color: #0000ff; text-decoration-color: #0000ff; text-decoration: underline\">http://www.bildindex.de/document/obj20178994</span>\n",
       "</pre>\n"
      ],
      "text/plain": [
       "\u001b[31mrecordInfoLink\u001b[0m \u001b[4;94mhttp://www.bildindex.de/document/obj20178994\u001b[0m\n"
      ]
     },
     "metadata": {},
     "output_type": "display_data"
    },
    {
     "data": {
      "text/html": [
       "<pre style=\"white-space:pre;overflow-x:auto;line-height:normal;font-family:Menlo,'DejaVu Sans Mono',consolas,'Courier New',monospace\"><span style=\"color: #800000; text-decoration-color: #800000\">image</span> <span style=\"color: #0000ff; text-decoration-color: #0000ff; text-decoration: underline\">http://www.bildindex.de/bilder/d/mi10653b03</span>\n",
       "</pre>\n"
      ],
      "text/plain": [
       "\u001b[31mimage\u001b[0m \u001b[4;94mhttp://www.bildindex.de/bilder/d/mi10653b03\u001b[0m\n"
      ]
     },
     "metadata": {},
     "output_type": "display_data"
    },
    {
     "data": {
      "text/html": [
       "<pre style=\"white-space:pre;overflow-x:auto;line-height:normal;font-family:Menlo,'DejaVu Sans Mono',consolas,'Courier New',monospace\"><span style=\"color: #800000; text-decoration-color: #800000\">description</span> teilzerstört\n",
       "</pre>\n"
      ],
      "text/plain": [
       "\u001b[31mdescription\u001b[0m teilzerstört\n"
      ]
     },
     "metadata": {},
     "output_type": "display_data"
    },
    {
     "data": {
      "text/html": [
       "<pre style=\"white-space:pre;overflow-x:auto;line-height:normal;font-family:Menlo,'DejaVu Sans Mono',consolas,'Courier New',monospace\"><span style=\"color: #800000; text-decoration-color: #800000\">objectWorkType</span> <span style=\"color: #0000ff; text-decoration-color: #0000ff; text-decoration: underline\">http://vocab.getty.edu/aat/300189808</span>\n",
       "</pre>\n"
      ],
      "text/plain": [
       "\u001b[31mobjectWorkType\u001b[0m \u001b[4;94mhttp://vocab.getty.edu/aat/300189808\u001b[0m\n"
      ]
     },
     "metadata": {},
     "output_type": "display_data"
    },
    {
     "data": {
      "text/html": [
       "<pre style=\"white-space:pre;overflow-x:auto;line-height:normal;font-family:Menlo,'DejaVu Sans Mono',consolas,'Courier New',monospace\"><span style=\"color: #800000; text-decoration-color: #800000\">classification</span> <span style=\"color: #0000ff; text-decoration-color: #0000ff; text-decoration: underline\">http://vocab.getty.edu/aat/300047090</span>\n",
       "<span style=\"color: #0000ff; text-decoration-color: #0000ff; text-decoration: underline\">http://d-nb.info/gnd/4046277-8</span>\n",
       "</pre>\n"
      ],
      "text/plain": [
       "\u001b[31mclassification\u001b[0m \u001b[4;94mhttp://vocab.getty.edu/aat/300047090\u001b[0m\n",
       "\u001b[4;94mhttp://d-nb.info/gnd/4046277-8\u001b[0m\n"
      ]
     },
     "metadata": {},
     "output_type": "display_data"
    },
    {
     "data": {
      "text/html": [
       "<pre style=\"white-space:pre;overflow-x:auto;line-height:normal;font-family:Menlo,'DejaVu Sans Mono',consolas,'Courier New',monospace\"><span style=\"color: #800000; text-decoration-color: #800000\">title</span> Esel als Lehrer\n",
       "</pre>\n"
      ],
      "text/plain": [
       "\u001b[31mtitle\u001b[0m Esel als Lehrer\n"
      ]
     },
     "metadata": {},
     "output_type": "display_data"
    },
    {
     "data": {
      "text/html": [
       "<pre style=\"white-space:pre;overflow-x:auto;line-height:normal;font-family:Menlo,'DejaVu Sans Mono',consolas,'Courier New',monospace\"><span style=\"color: #800000; text-decoration-color: #800000\">location</span> <span style=\"color: #0000ff; text-decoration-color: #0000ff; text-decoration: underline\">http://vocab.getty.edu/tgn/7005293</span>\n",
       "<span style=\"color: #0000ff; text-decoration-color: #0000ff; text-decoration: underline\">http://d-nb.info/gnd/4018118-2</span>\n",
       "</pre>\n"
      ],
      "text/plain": [
       "\u001b[31mlocation\u001b[0m \u001b[4;94mhttp://vocab.getty.edu/tgn/7005293\u001b[0m\n",
       "\u001b[4;94mhttp://d-nb.info/gnd/4018118-2\u001b[0m\n"
      ]
     },
     "metadata": {},
     "output_type": "display_data"
    },
    {
     "data": {
      "text/html": [
       "<pre style=\"white-space:pre;overflow-x:auto;line-height:normal;font-family:Menlo,'DejaVu Sans Mono',consolas,'Courier New',monospace\"><span style=\"color: #800000; text-decoration-color: #800000\">subjects</span> <span style=\"color: #0000ff; text-decoration-color: #0000ff; text-decoration: underline\">http://iconclass.org/46C13142</span>\n",
       "</pre>\n"
      ],
      "text/plain": [
       "\u001b[31msubjects\u001b[0m \u001b[4;94mhttp://iconclass.org/46C13142\u001b[0m\n"
      ]
     },
     "metadata": {},
     "output_type": "display_data"
    },
    {
     "data": {
      "text/html": [
       "<pre style=\"white-space:pre;overflow-x:auto;line-height:normal;font-family:Menlo,'DejaVu Sans Mono',consolas,'Courier New',monospace\"><span style=\"color: #800000; text-decoration-color: #800000\">materials</span> <span style=\"color: #0000ff; text-decoration-color: #0000ff; text-decoration: underline\">http://vocab.getty.edu/aat/300010439</span>\n",
       "</pre>\n"
      ],
      "text/plain": [
       "\u001b[31mmaterials\u001b[0m \u001b[4;94mhttp://vocab.getty.edu/aat/300010439\u001b[0m\n"
      ]
     },
     "metadata": {},
     "output_type": "display_data"
    },
    {
     "data": {
      "text/html": [
       "<pre style=\"white-space:pre;overflow-x:auto;line-height:normal;font-family:Menlo,'DejaVu Sans Mono',consolas,'Courier New',monospace\"><span style=\"color: #800000; text-decoration-color: #800000\">displayDate</span> <span style=\"color: #008080; text-decoration-color: #008080; font-weight: bold\">1</span>. Jahrhundert vor Christus\n",
       "</pre>\n"
      ],
      "text/plain": [
       "\u001b[31mdisplayDate\u001b[0m \u001b[1;36m1\u001b[0m. Jahrhundert vor Christus\n"
      ]
     },
     "metadata": {},
     "output_type": "display_data"
    },
    {
     "data": {
      "text/html": [
       "<pre style=\"white-space:pre;overflow-x:auto;line-height:normal;font-family:Menlo,'DejaVu Sans Mono',consolas,'Courier New',monospace\"><span style=\"color: #800000; text-decoration-color: #800000\">earliestDate</span> <span style=\"color: #008080; text-decoration-color: #008080; font-weight: bold\">-100</span>\n",
       "</pre>\n"
      ],
      "text/plain": [
       "\u001b[31mearliestDate\u001b[0m \u001b[1;36m-100\u001b[0m\n"
      ]
     },
     "metadata": {},
     "output_type": "display_data"
    },
    {
     "data": {
      "text/html": [
       "<pre style=\"white-space:pre;overflow-x:auto;line-height:normal;font-family:Menlo,'DejaVu Sans Mono',consolas,'Courier New',monospace\"><span style=\"color: #800000; text-decoration-color: #800000\">latestDate</span> <span style=\"color: #008080; text-decoration-color: #008080; font-weight: bold\">-1</span>\n",
       "</pre>\n"
      ],
      "text/plain": [
       "\u001b[31mlatestDate\u001b[0m \u001b[1;36m-1\u001b[0m\n"
      ]
     },
     "metadata": {},
     "output_type": "display_data"
    },
    {
     "data": {
      "text/html": [
       "<pre style=\"white-space:pre;overflow-x:auto;line-height:normal;font-family:Menlo,'DejaVu Sans Mono',consolas,'Courier New',monospace\"><span style=\"color: #800000; text-decoration-color: #800000\">recordID</span> obj20178994\n",
       "</pre>\n"
      ],
      "text/plain": [
       "\u001b[31mrecordID\u001b[0m obj20178994\n"
      ]
     },
     "metadata": {},
     "output_type": "display_data"
    }
   ],
   "source": [
    "bildindex1 = urlopen(SAMPLES['bildindex1']).read()\n",
    "lidodoc = lidolator.from_string(bildindex1)\n",
    "for k, v in lidodoc.items():    \n",
    "    print(f'[red]{k}[/red]', '\\n'.join([x.text for x in v]))\n"
   ]
  },
  {
   "cell_type": "code",
   "execution_count": 4,
   "metadata": {},
   "outputs": [
    {
     "data": {
      "text/html": [
       "<pre style=\"white-space:pre;overflow-x:auto;line-height:normal;font-family:Menlo,'DejaVu Sans Mono',consolas,'Courier New',monospace\"><span style=\"color: #800000; text-decoration-color: #800000\">recordInfoLink</span> <span style=\"color: #0000ff; text-decoration-color: #0000ff; text-decoration: underline\">https://mediatum.ub.tum.de/?id=1597796</span>\n",
       "</pre>\n"
      ],
      "text/plain": [
       "\u001b[31mrecordInfoLink\u001b[0m \u001b[4;94mhttps://mediatum.ub.tum.de/?\u001b[0m\u001b[4;94mid\u001b[0m\u001b[4;94m=\u001b[0m\u001b[4;94m1597796\u001b[0m\n"
      ]
     },
     "metadata": {},
     "output_type": "display_data"
    },
    {
     "data": {
      "text/html": [
       "<pre style=\"white-space:pre;overflow-x:auto;line-height:normal;font-family:Menlo,'DejaVu Sans Mono',consolas,'Courier New',monospace\"><span style=\"color: #800000; text-decoration-color: #800000\">image</span> <span style=\"color: #0000ff; text-decoration-color: #0000ff; text-decoration: underline\">https://mediatum.ub.tum.de/images/1597796</span>\n",
       "</pre>\n"
      ],
      "text/plain": [
       "\u001b[31mimage\u001b[0m \u001b[4;94mhttps://mediatum.ub.tum.de/images/1597796\u001b[0m\n"
      ]
     },
     "metadata": {},
     "output_type": "display_data"
    },
    {
     "data": {
      "text/html": [
       "<pre style=\"white-space:pre;overflow-x:auto;line-height:normal;font-family:Menlo,'DejaVu Sans Mono',consolas,'Courier New',monospace\"><span style=\"color: #800000; text-decoration-color: #800000\">objectWorkType</span> <span style=\"color: #0000ff; text-decoration-color: #0000ff; text-decoration: underline\">http://d-nb.info/gnd/4127900-1</span>\n",
       "</pre>\n"
      ],
      "text/plain": [
       "\u001b[31mobjectWorkType\u001b[0m \u001b[4;94mhttp://d-nb.info/gnd/4127900-1\u001b[0m\n"
      ]
     },
     "metadata": {},
     "output_type": "display_data"
    },
    {
     "data": {
      "text/html": [
       "<pre style=\"white-space:pre;overflow-x:auto;line-height:normal;font-family:Menlo,'DejaVu Sans Mono',consolas,'Courier New',monospace\"><span style=\"color: #800000; text-decoration-color: #800000\">classification</span> <span style=\"color: #0000ff; text-decoration-color: #0000ff; text-decoration: underline\">http://d-nb.info/gnd/4127900-1</span>\n",
       "</pre>\n"
      ],
      "text/plain": [
       "\u001b[31mclassification\u001b[0m \u001b[4;94mhttp://d-nb.info/gnd/4127900-1\u001b[0m\n"
      ]
     },
     "metadata": {},
     "output_type": "display_data"
    },
    {
     "data": {
      "text/html": [
       "<pre style=\"white-space:pre;overflow-x:auto;line-height:normal;font-family:Menlo,'DejaVu Sans Mono',consolas,'Courier New',monospace\"><span style=\"color: #800000; text-decoration-color: #800000\">title</span> Grund, Peter; Bremen; Marktplatz - Skizzen\n",
       "</pre>\n"
      ],
      "text/plain": [
       "\u001b[31mtitle\u001b[0m Grund, Peter; Bremen; Marktplatz - Skizzen\n"
      ]
     },
     "metadata": {},
     "output_type": "display_data"
    },
    {
     "data": {
      "text/html": [
       "<pre style=\"white-space:pre;overflow-x:auto;line-height:normal;font-family:Menlo,'DejaVu Sans Mono',consolas,'Courier New',monospace\"><span style=\"color: #800000; text-decoration-color: #800000\">legalBody</span> <span style=\"color: #0000ff; text-decoration-color: #0000ff; text-decoration: underline\">http://ld.zdb-services.de/resource/organisations/DE-91</span>\n",
       "</pre>\n"
      ],
      "text/plain": [
       "\u001b[31mlegalBody\u001b[0m \u001b[4;94mhttp://ld.zdb-services.de/resource/organisations/DE-91\u001b[0m\n"
      ]
     },
     "metadata": {},
     "output_type": "display_data"
    },
    {
     "data": {
      "text/html": [
       "<pre style=\"white-space:pre;overflow-x:auto;line-height:normal;font-family:Menlo,'DejaVu Sans Mono',consolas,'Courier New',monospace\"><span style=\"color: #800000; text-decoration-color: #800000\">location</span> <span style=\"color: #0000ff; text-decoration-color: #0000ff; text-decoration: underline\">http://d-nb.info/gnd/4127793-4</span>\n",
       "</pre>\n"
      ],
      "text/plain": [
       "\u001b[31mlocation\u001b[0m \u001b[4;94mhttp://d-nb.info/gnd/4127793-4\u001b[0m\n"
      ]
     },
     "metadata": {},
     "output_type": "display_data"
    },
    {
     "data": {
      "text/html": [
       "<pre style=\"white-space:pre;overflow-x:auto;line-height:normal;font-family:Menlo,'DejaVu Sans Mono',consolas,'Courier New',monospace\"><span style=\"color: #800000; text-decoration-color: #800000\">actor</span> Grund, Peter <span style=\"font-weight: bold\">(</span>Architekt<span style=\"font-weight: bold\">)</span>\n",
       "</pre>\n"
      ],
      "text/plain": [
       "\u001b[31mactor\u001b[0m Grund, Peter \u001b[1m(\u001b[0mArchitekt\u001b[1m)\u001b[0m\n"
      ]
     },
     "metadata": {},
     "output_type": "display_data"
    },
    {
     "data": {
      "text/html": [
       "<pre style=\"white-space:pre;overflow-x:auto;line-height:normal;font-family:Menlo,'DejaVu Sans Mono',consolas,'Courier New',monospace\"><span style=\"color: #800000; text-decoration-color: #800000\">displayDate</span> <span style=\"color: #008080; text-decoration-color: #008080; font-weight: bold\">1951</span>\n",
       "</pre>\n"
      ],
      "text/plain": [
       "\u001b[31mdisplayDate\u001b[0m \u001b[1;36m1951\u001b[0m\n"
      ]
     },
     "metadata": {},
     "output_type": "display_data"
    },
    {
     "data": {
      "text/html": [
       "<pre style=\"white-space:pre;overflow-x:auto;line-height:normal;font-family:Menlo,'DejaVu Sans Mono',consolas,'Courier New',monospace\"><span style=\"color: #800000; text-decoration-color: #800000\">earliestDate</span> <span style=\"color: #008080; text-decoration-color: #008080; font-weight: bold\">1951</span>\n",
       "</pre>\n"
      ],
      "text/plain": [
       "\u001b[31mearliestDate\u001b[0m \u001b[1;36m1951\u001b[0m\n"
      ]
     },
     "metadata": {},
     "output_type": "display_data"
    },
    {
     "data": {
      "text/html": [
       "<pre style=\"white-space:pre;overflow-x:auto;line-height:normal;font-family:Menlo,'DejaVu Sans Mono',consolas,'Courier New',monospace\"><span style=\"color: #800000; text-decoration-color: #800000\">latestDate</span> <span style=\"color: #008080; text-decoration-color: #008080; font-weight: bold\">1951</span>\n",
       "</pre>\n"
      ],
      "text/plain": [
       "\u001b[31mlatestDate\u001b[0m \u001b[1;36m1951\u001b[0m\n"
      ]
     },
     "metadata": {},
     "output_type": "display_data"
    },
    {
     "data": {
      "text/html": [
       "<pre style=\"white-space:pre;overflow-x:auto;line-height:normal;font-family:Menlo,'DejaVu Sans Mono',consolas,'Courier New',monospace\"><span style=\"color: #800000; text-decoration-color: #800000\">place</span> Bremen\n",
       "</pre>\n"
      ],
      "text/plain": [
       "\u001b[31mplace\u001b[0m Bremen\n"
      ]
     },
     "metadata": {},
     "output_type": "display_data"
    },
    {
     "data": {
      "text/html": [
       "<pre style=\"white-space:pre;overflow-x:auto;line-height:normal;font-family:Menlo,'DejaVu Sans Mono',consolas,'Courier New',monospace\"><span style=\"color: #800000; text-decoration-color: #800000\">recordID</span> <span style=\"color: #008080; text-decoration-color: #008080; font-weight: bold\">1597796</span>\n",
       "</pre>\n"
      ],
      "text/plain": [
       "\u001b[31mrecordID\u001b[0m \u001b[1;36m1597796\u001b[0m\n"
      ]
     },
     "metadata": {},
     "output_type": "display_data"
    }
   ],
   "source": [
    "lidodoc = lidolator.from_string(urlopen(SAMPLES['fotothek1']).read())\n",
    "for k, v in lidodoc.items():    \n",
    "    print(f'[red]{k}[/red]', '\\n'.join([x.text for x in v]))\n"
   ]
  }
 ],
 "metadata": {
  "kernelspec": {
   "display_name": "p39",
   "language": "python",
   "name": "python3"
  },
  "language_info": {
   "codemirror_mode": {
    "name": "ipython",
    "version": 3
   },
   "file_extension": ".py",
   "mimetype": "text/x-python",
   "name": "python",
   "nbconvert_exporter": "python",
   "pygments_lexer": "ipython3",
   "version": "3.9.15"
  }
 },
 "nbformat": 4,
 "nbformat_minor": 2
}
